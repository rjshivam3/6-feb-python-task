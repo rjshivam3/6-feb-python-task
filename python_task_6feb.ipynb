{
 "cells": [
  {
   "cell_type": "code",
   "execution_count": 1,
   "id": "c3f19373-35fe-4f0c-be43-91ada0f67517",
   "metadata": {},
   "outputs": [],
   "source": [
    "# question 1 solved below"
   ]
  },
  {
   "cell_type": "code",
   "execution_count": 2,
   "id": "d2543a5a-2876-4246-8d0f-cbdf66ca9c4b",
   "metadata": {},
   "outputs": [],
   "source": [
    "def product_of_numbers(lst):\n",
    "    flattened = []\n",
    "    for item in lst:\n",
    "        if isinstance(item, list) or isinstance(item, tuple) or isinstance(item, set):\n",
    "            flattened.extend([elem for elem in item if isinstance(elem, (int, float))])\n",
    "        elif isinstance(item, dict):\n",
    "            for key, value in item.items():\n",
    "                if isinstance(key, (int, float)):\n",
    "                    flattened.append(key)\n",
    "                if isinstance(value, (int, float)):\n",
    "                    flattened.append(value)\n",
    "        elif isinstance(item, (int, float)):\n",
    "            flattened.append(item)\n",
    "    product = 1\n",
    "    for num in flattened:\n",
    "        product *= num\n",
    "    return product\n"
   ]
  },
  {
   "cell_type": "code",
   "execution_count": 4,
   "id": "afd495b5-2ed4-451e-b9df-8bf5d4da548d",
   "metadata": {},
   "outputs": [
    {
     "name": "stdout",
     "output_type": "stream",
     "text": [
      "0\n"
     ]
    }
   ],
   "source": [
    "list1 = [1,2,3,4, [44,55,66, True], False, (34,56,78,89,34), {1,2,3,3,2,1}, {1:34, \"key2\": [55, 67, 78, 89], 4: (45, 22, 61, 34)}, [56, 'data science'], 'Machine Learning']\n",
    "\n",
    "result = product_of_numbers(list1)\n",
    "\n",
    "print(result) \n"
   ]
  },
  {
   "cell_type": "code",
   "execution_count": 5,
   "id": "96531862-20e6-439a-afb5-cf6537d4ffdb",
   "metadata": {},
   "outputs": [],
   "source": [
    "# question 2 solved below"
   ]
  },
  {
   "cell_type": "code",
   "execution_count": 6,
   "id": "b2c6e55e-688b-47fc-b849-4414f5e381e0",
   "metadata": {},
   "outputs": [
    {
     "name": "stdout",
     "output_type": "stream",
     "text": [
      "r$dzmg$gl$yvxlnv$z$wzgz$hxrvmgrhg.\n"
     ]
    }
   ],
   "source": [
    "def encrypt_message(message):\n",
    "    message = message.lower()\n",
    "\n",
    "    message = message.replace(' ', '$')\n",
    "\n",
    "    mapping = str.maketrans('abcdefghijklmnopqrstuvwxyz', 'zyxwvutsrqponmlkjihgfedcba')\n",
    "    \n",
    "    encrypted_message = message.translate(mapping)\n",
    "    \n",
    "    return encrypted_message\n",
    "\n",
    "message = \"I want to become a Data Scientist.\"\n",
    "encrypted_message = encrypt_message(message)\n",
    "print(encrypted_message)\n"
   ]
  },
  {
   "cell_type": "code",
   "execution_count": null,
   "id": "913ff546-6167-4c5f-b687-a26070979e06",
   "metadata": {},
   "outputs": [],
   "source": []
  }
 ],
 "metadata": {
  "kernelspec": {
   "display_name": "Python 3 (ipykernel)",
   "language": "python",
   "name": "python3"
  },
  "language_info": {
   "codemirror_mode": {
    "name": "ipython",
    "version": 3
   },
   "file_extension": ".py",
   "mimetype": "text/x-python",
   "name": "python",
   "nbconvert_exporter": "python",
   "pygments_lexer": "ipython3",
   "version": "3.10.8"
  }
 },
 "nbformat": 4,
 "nbformat_minor": 5
}
